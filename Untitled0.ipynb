{
  "nbformat": 4,
  "nbformat_minor": 0,
  "metadata": {
    "colab": {
      "provenance": [],
      "authorship_tag": "ABX9TyPABYHjI6i69Qledv1WVsgX",
      "include_colab_link": true
    },
    "kernelspec": {
      "name": "python3",
      "display_name": "Python 3"
    },
    "language_info": {
      "name": "python"
    }
  },
  "cells": [
    {
      "cell_type": "markdown",
      "metadata": {
        "id": "view-in-github",
        "colab_type": "text"
      },
      "source": [
        "<a href=\"https://colab.research.google.com/github/Melynna/Aula_02/blob/main/Untitled0.ipynb\" target=\"_parent\"><img src=\"https://colab.research.google.com/assets/colab-badge.svg\" alt=\"Open In Colab\"/></a>"
      ]
    },
    {
      "cell_type": "code",
      "execution_count": null,
      "metadata": {
        "id": "Txq8NHbYECqi"
      },
      "outputs": [],
      "source": [
        "Aula_03\n"
      ]
    },
    {
      "cell_type": "code",
      "source": [
        "# Solicita ao usuário que insira um número\n",
        "\n",
        "numero = int(input(\"Digite um número inteiro: \"))\n",
        "\n",
        "#Verifica se o número é par ou impar\n",
        "\n",
        "if numero % 2 == 0:\n",
        "\tprint(f\"O número {numero} é par.\")\n",
        "else:\n",
        "\tprint(f\"O número {numero} é impar.\")"
      ],
      "metadata": {
        "colab": {
          "base_uri": "https://localhost:8080/"
        },
        "id": "TAjSaWPHEHuy",
        "outputId": "57521ca7-765d-4b0c-c64a-4cfe9a34f95c"
      },
      "execution_count": 3,
      "outputs": [
        {
          "output_type": "stream",
          "name": "stdout",
          "text": [
            "Digite um número inteiro: 361\n",
            "O número 361 é impar.\n"
          ]
        }
      ]
    },
    {
      "cell_type": "code",
      "source": [
        "import math\n",
        "\n",
        "#Solicita ao usuário que insira um número\n",
        "\n",
        "numero = float(input(\"Digite um número: \"))\n",
        "\n",
        "# Verifica se o numero é maior ou igual a zero\n",
        "if numero >= 0:\n",
        "\traiz_quadrada = math.sqrt(numero)\n",
        "\tprint(f\"A raiz quadrada de {numero} é {raiz_quadrada: .2f}.\")\n",
        "else:\n",
        "\tprint(\"Não existe raiz real para este número!\")"
      ],
      "metadata": {
        "colab": {
          "base_uri": "https://localhost:8080/"
        },
        "id": "XcWwaG4WKkZ-",
        "outputId": "94b8f891-8fea-43c4-d0ac-71245a566583"
      },
      "execution_count": 5,
      "outputs": [
        {
          "output_type": "stream",
          "name": "stdout",
          "text": [
            "Digite um número: 458\n",
            "A raiz quadrada de 458.0 é  21.40.\n"
          ]
        }
      ]
    }
  ]
}